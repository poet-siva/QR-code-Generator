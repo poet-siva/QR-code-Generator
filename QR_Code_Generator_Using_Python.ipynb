{
  "nbformat": 4,
  "nbformat_minor": 0,
  "metadata": {
    "colab": {
      "name": "QR Code Generator Using Python.ipynb",
      "provenance": [],
      "collapsed_sections": [],
      "authorship_tag": "ABX9TyNbfwUGGe68k4Z3bt1Y/PeN",
      "include_colab_link": true
    },
    "kernelspec": {
      "display_name": "Python 3",
      "name": "python3"
    }
  },
  "cells": [
    {
      "cell_type": "markdown",
      "metadata": {
        "id": "view-in-github",
        "colab_type": "text"
      },
      "source": [
        "<a href=\"https://colab.research.google.com/github/poet-siva/QR-code-Generator/blob/main/QR_Code_Generator_Using_Python.ipynb\" target=\"_parent\"><img src=\"https://colab.research.google.com/assets/colab-badge.svg\" alt=\"Open In Colab\"/></a>"
      ]
    },
    {
      "cell_type": "code",
      "metadata": {
        "id": "zy_pN5Xm1XxA",
        "colab": {
          "base_uri": "https://localhost:8080/"
        },
        "outputId": "f77f547f-384d-43fd-cecb-4a949bf2c2e3"
      },
      "source": [
        "pip install qrcode[pil]"
      ],
      "execution_count": 8,
      "outputs": [
        {
          "output_type": "stream",
          "text": [
            "Requirement already satisfied: qrcode[pil] in /usr/local/lib/python3.7/dist-packages (6.1)\n",
            "Requirement already satisfied: six in /usr/local/lib/python3.7/dist-packages (from qrcode[pil]) (1.15.0)\n",
            "Requirement already satisfied: pillow; extra == \"pil\" in /usr/local/lib/python3.7/dist-packages (from qrcode[pil]) (7.0.0)\n"
          ],
          "name": "stdout"
        }
      ]
    },
    {
      "cell_type": "code",
      "metadata": {
        "id": "cd0f9C7D2bo6"
      },
      "source": [
        "import qrcode"
      ],
      "execution_count": 9,
      "outputs": []
    },
    {
      "cell_type": "code",
      "metadata": {
        "id": "VxBiDIk62dpE"
      },
      "source": [
        "qr = qrcode.make('https://youtu.be/20YD0lNmUrk')"
      ],
      "execution_count": 12,
      "outputs": []
    },
    {
      "cell_type": "code",
      "metadata": {
        "id": "ef0qsUYw2hrh"
      },
      "source": [
        "qr.save('qr.png')"
      ],
      "execution_count": 13,
      "outputs": []
    },
    {
      "cell_type": "code",
      "metadata": {
        "colab": {
          "base_uri": "https://localhost:8080/"
        },
        "id": "kAlLN5Ip2oRp",
        "outputId": "6baaf01c-176c-40c3-a40c-46fdf88b6190"
      },
      "source": [
        "print (\"QR code is generated successfully\")"
      ],
      "execution_count": 10,
      "outputs": [
        {
          "output_type": "stream",
          "text": [
            "QR code is generated successfully\n"
          ],
          "name": "stdout"
        }
      ]
    }
  ]
}